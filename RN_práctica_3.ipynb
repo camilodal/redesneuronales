{
  "nbformat": 4,
  "nbformat_minor": 0,
  "metadata": {
    "colab": {
      "provenance": []
    },
    "kernelspec": {
      "name": "python3",
      "display_name": "Python 3"
    },
    "language_info": {
      "name": "python"
    }
  },
  "cells": [
    {
      "cell_type": "markdown",
      "source": [
        "# Clase práctica 3 Redes Neuronales (perceptrón multicapa)\n"
      ],
      "metadata": {
        "id": "ojqbJMyQOZQS"
      }
    },
    {
      "cell_type": "code",
      "execution_count": 41,
      "metadata": {
        "id": "IvT0CrUdLzx9"
      },
      "outputs": [],
      "source": [
        "import numpy as np\n",
        "from matplotlib import pyplot as mpl"
      ]
    },
    {
      "cell_type": "code",
      "source": [
        "s_i=2\n",
        "s_h=3\n",
        "s_0=1\n",
        "p=100"
      ],
      "metadata": {
        "id": "V4YqblkMMZsg"
      },
      "execution_count": 42,
      "outputs": []
    },
    {
      "cell_type": "code",
      "source": [
        "def funcion_activacion(A):\n",
        "  return np.tanh(A)\n",
        "\n"
      ],
      "metadata": {
        "id": "_ih6itKwV0ev"
      },
      "execution_count": 45,
      "outputs": []
    },
    {
      "cell_type": "markdown",
      "source": [
        "Defino funciones para los umbrales"
      ],
      "metadata": {
        "id": "xamoa10TOUqi"
      }
    },
    {
      "cell_type": "code",
      "source": [
        "def bias_add(V):\n",
        "  bias=np.ones((len(V),1))\n",
        "  return np.hstack([V, bias])\n",
        "\n",
        "def bias_sub(V): #descarta la ultima columna\n",
        "  return V[:, :-1]"
      ],
      "metadata": {
        "id": "jNuZyIWMMtkk"
      },
      "execution_count": 46,
      "outputs": []
    },
    {
      "cell_type": "markdown",
      "source": [
        "Y0=X  \n",
        "Y1=s1(Y0*W1)  \n",
        "Y2=s2(Y1*W2)  \n",
        "Siendo s1 y s2 las funciones de activación"
      ],
      "metadata": {
        "id": "I-21MDQsP63U"
      }
    },
    {
      "cell_type": "markdown",
      "source": [
        "$ \\Delta w_2 = n (Y_1^{T} D_2)$  \n",
        "$ \\Delta w_1 = n (Y_0^{T} D_1)$  \n",
        "$ D_2 = E_2 * d Y_2$  \n",
        "$ D_1 = E_1 * d Y_1$  \n",
        "$ E_2 = Z -T_2 $  \n",
        "$ E_1 = E_2 W_2^{T}$\n",
        "\n",
        "\n",
        "\n",
        "Los E son los errores de cada capa\n",
        "Los D son "
      ],
      "metadata": {
        "id": "PK4mnNz8R8PL"
      }
    },
    {
      "cell_type": "markdown",
      "source": [
        "# Primer intento (sin ciclo)"
      ],
      "metadata": {
        "id": "zCh5xxK5ZdCJ"
      }
    },
    {
      "cell_type": "code",
      "source": [
        "W1=np.random.normal(0, 0.5, (s_i+1, s_h+1))\n",
        "W2=np.random.normal(0, 0.5, (s_h+1, s_0))\n"
      ],
      "metadata": {
        "id": "NeBrGN_tNR1m"
      },
      "execution_count": 64,
      "outputs": []
    },
    {
      "cell_type": "code",
      "source": [
        "Y0=np.random.uniform(-5, 5, (p, s_i+1))\n",
        "Z=np.sign(np.prod(Y0, axis=1).reshape((p, s_0)))"
      ],
      "metadata": {
        "id": "wEpUYqT8Mq_c"
      },
      "execution_count": 65,
      "outputs": []
    },
    {
      "cell_type": "code",
      "source": [
        "Y1=funcion_activacion(np.dot(Y0, W1))\n",
        "Y2=funcion_activacion(np.dot(Y1, W2))\n",
        "E2=Z-Y2\n",
        "E1=np.dot(E2, W2.T)\n",
        "dY1=1-np.square(Y1)\n",
        "dY2=1-np.square(Y2)\n",
        "D2=E2*dY2\n",
        "D1=E1*dY1\n",
        "d_W2=np.dot(Y1.T, D2)\n",
        "d_W1=np.dot(Y0.T, D1)\n",
        "W1=W1+n*d_W1\n",
        "W2=W2+n*d_W2"
      ],
      "metadata": {
        "id": "rmn8F_MkUNXx"
      },
      "execution_count": 66,
      "outputs": []
    },
    {
      "cell_type": "markdown",
      "source": [
        "# Segundo intento"
      ],
      "metadata": {
        "id": "JTZl5rciZifx"
      }
    },
    {
      "cell_type": "code",
      "source": [
        "i=1\n",
        "e=[]\n",
        "n=0.0001\n",
        "while np.sum(np.square(E2))>0.001 and i<10000:\n",
        "  Y1=funcion_activacion(np.dot(Y0, W1))\n",
        "  Y2=funcion_activacion(np.dot(Y1, W2))\n",
        "  E2=Z-Y2\n",
        "  E1=np.dot(E2, W2.T)\n",
        "  dY1=1-np.square(Y1)\n",
        "  dY2=1-np.square(Y2)\n",
        "  D2=E2*dY2\n",
        "  D1=E1*dY1\n",
        "  d_W2=np.dot(Y1.T, D2)\n",
        "  d_W1=np.dot(Y0.T, D1)\n",
        "  W1=W1+n*d_W1\n",
        "  W2=W2+n*d_W2\n",
        "  e.append(np.sum(np.square(E2)))\n",
        "  i=i+1\n",
        "\n",
        "print(e[-1])\n",
        "print(\"i es \", i)"
      ],
      "metadata": {
        "colab": {
          "base_uri": "https://localhost:8080/"
        },
        "id": "Oq0YRlnBZlc7",
        "outputId": "8fa9e6ce-7ac6-44f3-c219-a58f70f9b07f"
      },
      "execution_count": 67,
      "outputs": [
        {
          "output_type": "stream",
          "name": "stdout",
          "text": [
            "15.877448393700114\n",
            "i es  10000\n"
          ]
        }
      ]
    },
    {
      "cell_type": "code",
      "source": [],
      "metadata": {
        "colab": {
          "base_uri": "https://localhost:8080/"
        },
        "id": "Hui5H3R7bIVq",
        "outputId": "4f0e0c54-ab3f-41a0-c145-c79a08366af8"
      },
      "execution_count": 39,
      "outputs": [
        {
          "output_type": "stream",
          "name": "stdout",
          "text": [
            "[1 4 9]\n"
          ]
        }
      ]
    }
  ]
}