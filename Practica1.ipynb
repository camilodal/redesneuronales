{
 "cells": [
  {
   "cell_type": "code",
   "execution_count": 69,
   "metadata": {},
   "outputs": [],
   "source": [
    "import numpy as np\n",
    "import matplotlib.pyplot as plt\n",
    "import string"
   ]
  },
  {
   "cell_type": "code",
   "execution_count": 50,
   "metadata": {},
   "outputs": [
    {
     "data": {
      "text/plain": [
       "(4, 3)"
      ]
     },
     "execution_count": 50,
     "metadata": {},
     "output_type": "execute_result"
    }
   ],
   "source": [
    "\n",
    "x = np.array( [ [ -1, -1, 1 ], #dim 4x3\n",
    "[ -1, +1, 1 ],\n",
    "[ +1, -1, 1 ],\n",
    "[ +1, +1, 1 ] ] )\n",
    "\n",
    "\n",
    "z = np.array( [ [ -1, -1 ], #dim 4x2\n",
    "[ -1, +1 ],\n",
    "[ -1, +1 ],\n",
    "[ +1, +1 ] ] )\n",
    "\n",
    "#a tiene que ser de 3x2\n",
    "\n",
    "w=np.random.normal(0, 0.1, (3, 2))\n",
    "np.shape(w)\n",
    "np.shape(x)\n"
   ]
  },
  {
   "cell_type": "code",
   "execution_count": 51,
   "metadata": {},
   "outputs": [
    {
     "name": "stdout",
     "output_type": "stream",
     "text": [
      "1 1.0\n",
      "2 1.0\n",
      "3 1.0\n",
      "4 1.0\n",
      "5 1.0\n",
      "6 1.0\n",
      "7 1.0\n",
      "8 1.0\n",
      "9 1.0\n",
      "10 1.0\n",
      "11 1.0\n",
      "12 1.0\n",
      "13 1.0\n",
      "14 1.0\n",
      "15 1.0\n",
      "16 1.0\n",
      "17 1.5\n",
      "18 1.0\n",
      "19 1.0\n",
      "20 1.5\n",
      "21 1.0\n",
      "22 1.0\n",
      "23 1.5\n",
      "24 1.0\n",
      "25 1.0\n",
      "26 1.5\n",
      "27 1.0\n",
      "28 1.0\n",
      "29 1.5\n",
      "30 1.0\n",
      "31 1.0\n",
      "32 1.5\n",
      "33 1.0\n",
      "34 1.0\n",
      "35 1.5\n",
      "36 1.0\n",
      "37 1.0\n",
      "38 1.5\n",
      "39 1.0\n",
      "40 1.0\n",
      "41 1.5\n",
      "42 1.0\n",
      "43 0.5\n",
      "44 1.0\n",
      "45 0.5\n",
      "46 0.5\n",
      "47 0.5\n",
      "48 0.5\n",
      "49 0.0\n"
     ]
    }
   ],
   "source": [
    "lr=1e-3\n",
    "E=[]\n",
    "e=1\n",
    "t=0\n",
    "while(e>0.0001) and (t<999):\n",
    "    y=np.sign(np.dot(x, w))\n",
    "    d=z-y\n",
    "    dw=np.dot(x.T, d)\n",
    "    w+=lr*dw\n",
    "    e=np.mean(np.square(d))\n",
    "    E.append(e)\n",
    "    t+=1\n",
    "    print(t, e)\n"
   ]
  },
  {
   "cell_type": "code",
   "execution_count": 52,
   "metadata": {},
   "outputs": [
    {
     "name": "stdout",
     "output_type": "stream",
     "text": [
      "[[ 0.08123917  0.08018864]\n",
      " [ 0.16401996  0.08138261]\n",
      " [-0.0840625   0.00374993]]\n"
     ]
    }
   ],
   "source": [
    "print(w)"
   ]
  },
  {
   "cell_type": "code",
   "execution_count": 53,
   "metadata": {},
   "outputs": [
    {
     "data": {
      "text/plain": [
       "array([[-1., -1.],\n",
       "       [-1.,  1.],\n",
       "       [-1.,  1.],\n",
       "       [ 1.,  1.]])"
      ]
     },
     "execution_count": 53,
     "metadata": {},
     "output_type": "execute_result"
    }
   ],
   "source": [
    "np.sign(np.dot(x, w))"
   ]
  },
  {
   "cell_type": "markdown",
   "metadata": {},
   "source": [
    "Ej 2"
   ]
  },
  {
   "cell_type": "code",
   "execution_count": 100,
   "metadata": {},
   "outputs": [],
   "source": [
    "letras = np.loadtxt(\"letras.txt\")\n",
    "x= letras.reshape((26,25))*2-1 ##26x25\n",
    "\n",
    "def bias_add( V):\n",
    "    bias = np.ones( (len(V),1) )\n",
    "    return np.hstack( [ V, bias] )\n",
    "\n",
    "def bias_sub( V):\n",
    "    return V[:,:-1]\n",
    "\n",
    "L=bias_add(L)"
   ]
  },
  {
   "cell_type": "code",
   "execution_count": 108,
   "metadata": {},
   "outputs": [
    {
     "name": "stdout",
     "output_type": "stream",
     "text": [
      "['00001' '00010' '00011' '00100' '00101' '00110' '00111' '01000' '01001'\n",
      " '01010' '01011' '01100' '01101' '01110' '01111' '10000' '10001' '10010'\n",
      " '10011' '10100' '10101' '10110' '10111' '11000' '11001' '11010']\n"
     ]
    }
   ],
   "source": [
    "z=np.array([bin(ord('A'))[-5:],\n",
    "           bin(ord('B'))[-5:],\n",
    "           bin(ord('C'))[-5:],\n",
    "           bin(ord('D'))[-5:],\n",
    "           bin(ord('E'))[-5:],\n",
    "           bin(ord('F'))[-5:],\n",
    "           bin(ord('G'))[-5:],\n",
    "           bin(ord('H'))[-5:],    ##26x5\n",
    "            bin(ord('I'))[-5:],\n",
    "            bin(ord('J'))[-5:],\n",
    "            bin(ord('K'))[-5:],\n",
    "            bin(ord('L'))[-5:],\n",
    "            bin(ord('M'))[-5:],\n",
    "            bin(ord('N'))[-5:],\n",
    "            bin(ord('O'))[-5:],\n",
    "            bin(ord('P'))[-5:],\n",
    "            bin(ord('Q'))[-5:],\n",
    "            bin(ord('R'))[-5:],\n",
    "            bin(ord('S'))[-5:],\n",
    "            bin(ord('T'))[-5:],\n",
    "            bin(ord('U'))[-5:],\n",
    "            bin(ord('V'))[-5:],\n",
    "            bin(ord('W'))[-5:],\n",
    "            bin(ord('X'))[-5:],\n",
    "            bin(ord('Y'))[-5:],\n",
    "            bin(ord('Z'))[-5:]])\n",
    "\n",
    "\n",
    "\n",
    "w=np.random.normal(0, 0.1, (25, 5))\n"
   ]
  },
  {
   "cell_type": "code",
   "execution_count": 105,
   "metadata": {},
   "outputs": [
    {
     "ename": "UFuncTypeError",
     "evalue": "ufunc 'subtract' did not contain a loop with signature matching types (dtype('<U32'), dtype('<U32')) -> dtype('<U32')",
     "output_type": "error",
     "traceback": [
      "\u001b[0;31m---------------------------------------------------------------------------\u001b[0m",
      "\u001b[0;31mUFuncTypeError\u001b[0m                            Traceback (most recent call last)",
      "\u001b[0;32m<ipython-input-105-0cd95495a54e>\u001b[0m in \u001b[0;36m<module>\u001b[0;34m\u001b[0m\n\u001b[1;32m      4\u001b[0m \u001b[0mt\u001b[0m\u001b[0;34m=\u001b[0m\u001b[0;36m0\u001b[0m\u001b[0;34m\u001b[0m\u001b[0;34m\u001b[0m\u001b[0m\n\u001b[1;32m      5\u001b[0m \u001b[0my\u001b[0m\u001b[0;34m=\u001b[0m\u001b[0mnp\u001b[0m\u001b[0;34m.\u001b[0m\u001b[0msign\u001b[0m\u001b[0;34m(\u001b[0m\u001b[0mnp\u001b[0m\u001b[0;34m.\u001b[0m\u001b[0mdot\u001b[0m\u001b[0;34m(\u001b[0m\u001b[0mx\u001b[0m\u001b[0;34m,\u001b[0m \u001b[0mw\u001b[0m\u001b[0;34m)\u001b[0m\u001b[0;34m)\u001b[0m\u001b[0;34m\u001b[0m\u001b[0;34m\u001b[0m\u001b[0m\n\u001b[0;32m----> 6\u001b[0;31m \u001b[0md\u001b[0m\u001b[0;34m=\u001b[0m\u001b[0mz\u001b[0m\u001b[0;34m-\u001b[0m\u001b[0my\u001b[0m\u001b[0;34m\u001b[0m\u001b[0;34m\u001b[0m\u001b[0m\n\u001b[0m\u001b[1;32m      7\u001b[0m \u001b[0mdw\u001b[0m\u001b[0;34m=\u001b[0m\u001b[0mnp\u001b[0m\u001b[0;34m.\u001b[0m\u001b[0mdot\u001b[0m\u001b[0;34m(\u001b[0m\u001b[0mx\u001b[0m\u001b[0;34m.\u001b[0m\u001b[0mT\u001b[0m\u001b[0;34m,\u001b[0m \u001b[0md\u001b[0m\u001b[0;34m)\u001b[0m\u001b[0;34m\u001b[0m\u001b[0;34m\u001b[0m\u001b[0m\n\u001b[1;32m      8\u001b[0m \u001b[0mw\u001b[0m\u001b[0;34m+=\u001b[0m\u001b[0mlr\u001b[0m\u001b[0;34m*\u001b[0m\u001b[0mdw\u001b[0m\u001b[0;34m\u001b[0m\u001b[0;34m\u001b[0m\u001b[0m\n",
      "\u001b[0;31mUFuncTypeError\u001b[0m: ufunc 'subtract' did not contain a loop with signature matching types (dtype('<U32'), dtype('<U32')) -> dtype('<U32')"
     ]
    }
   ],
   "source": [
    "lr=1e-3\n",
    "E=[]\n",
    "e=1\n",
    "t=0\n",
    "    y=np.sign(np.dot(x, w))\n",
    "    d=z-y\n",
    "    dw=np.dot(x.T, d)\n",
    "    w+=lr*dw\n",
    "    e=np.mean(np.square(d))\n",
    "    E.append(e)\n",
    "    t+=1\n",
    "    print(t, e)"
   ]
  }
 ],
 "metadata": {
  "kernelspec": {
   "display_name": "Python 3",
   "language": "python",
   "name": "python3"
  },
  "language_info": {
   "codemirror_mode": {
    "name": "ipython",
    "version": 3
   },
   "file_extension": ".py",
   "mimetype": "text/x-python",
   "name": "python",
   "nbconvert_exporter": "python",
   "pygments_lexer": "ipython3",
   "version": "3.8.10"
  }
 },
 "nbformat": 4,
 "nbformat_minor": 4
}
